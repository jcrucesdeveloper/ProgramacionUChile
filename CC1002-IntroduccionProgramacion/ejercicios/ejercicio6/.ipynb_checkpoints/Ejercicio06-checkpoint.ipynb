{
 "cells": [
  {
   "cell_type": "markdown",
   "metadata": {
    "id": "6gnL4Tf3BGRB"
   },
   "source": [
    "# Ejercicio 6\n",
    "Dada una lista de elementos de tipo \"producto\", definido como una estructura con los campos \"nombre\", \"precio\" y \"cantidad\" de la siguiente manera:\n",
    "```python\n",
    "estructura.crear( \"producto\",\"nombre precio cantidad\")\n",
    "```\n",
    "\n",
    "Complete el código entregado más abajo, definiendo una función llamada:\n",
    "\n",
    "```python\n",
    "def totalCarrito(unaLista):\n",
    "```\n",
    "Como una función que retorne el total de las compras que contiene una lista de productos (esto es, la sumatoria de producto por cantidad en la lista `carrito`):\n",
    "\n",
    "```python\n",
    "carrito = lista(producto(\"cafe\", 2500, 2), lista(producto(\"aceite\", 5000, 1), None))\n",
    "```\n",
    "\n",
    "Puede usar la abstracción funcional `fold` definida en el módulo `abstraccion.py` en material docente. \n",
    "\n",
    "Tip: para esto puede definir la función auxiliar que utilizará la función `fold` llamada `sumaProductos()`, que recibe un valor y le suma el precio del producto comprado por su cantidad:\n",
    "\n",
    "```python\n",
    "def sumaProductos(valor,producto):\n",
    "```\n",
    "\n",
    "Complete el siguiente código y envíelo como un archivo `ejercicio6.py` vía u-cursos:"
   ]
  },
  {
   "cell_type": "code",
   "execution_count": 17,
   "metadata": {
    "colab": {
     "base_uri": "https://localhost:8080/",
     "height": 34
    },
    "id": "sVB1vqpR8HQz",
    "outputId": "4e022a30-82df-48ab-efcd-741d20f675c3"
   },
   "outputs": [
    {
     "name": "stdout",
     "output_type": "stream",
     "text": [
      "10000\n"
     ]
    }
   ],
   "source": [
    "import estructura\n",
    "from lista import *\n",
    "from abstraccion import *\n",
    "\n",
    "estructura.crear( \"producto\",\"nombre precio cantidad\")\n",
    "\n",
    "# funcion auxiliar para fold\n",
    "# receta de disenno\n",
    "def sumaProductos(valor,producto): \n",
    "  return valor * producto\n",
    "\n",
    "\n",
    "# receta de disenno\n",
    "def totalCarrito(unaLista):\n",
    "  \n",
    "  return fold(sumaProductos,0,unaLista)\n",
    "\n",
    "\n",
    "# Programa principal\n",
    "carrito = lista(producto(\"cafe\", 2500, 2), lista(producto(\"aceite\", 5000, 1), None))\n",
    "print (totalCarrito(carrito))"
   ]
  }
 ],
 "metadata": {
  "colab": {
   "collapsed_sections": [],
   "name": "Ejercicio06.ipynb",
   "provenance": []
  },
  "kernelspec": {
   "display_name": "Python 3",
   "language": "python",
   "name": "python3"
  },
  "language_info": {
   "codemirror_mode": {
    "name": "ipython",
    "version": 3
   },
   "file_extension": ".py",
   "mimetype": "text/x-python",
   "name": "python",
   "nbconvert_exporter": "python",
   "pygments_lexer": "ipython3",
   "version": "3.8.5"
  }
 },
 "nbformat": 4,
 "nbformat_minor": 1
}
